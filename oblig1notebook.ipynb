{
 "cells": [
  {
   "cell_type": "code",
   "execution_count": 1,
   "id": "42b16d97",
   "metadata": {},
   "outputs": [],
   "source": [
    "%matplotlib inline\n",
    "import pandas as pd\n",
    "import numpy as np\n",
    "import matplotlib.pyplot as plt\n",
    "import datetime"
   ]
  },
  {
   "cell_type": "code",
   "execution_count": 2,
   "id": "c260c78d",
   "metadata": {},
   "outputs": [
    {
     "data": {
      "text/html": [
       "<div>\n",
       "<style scoped>\n",
       "    .dataframe tbody tr th:only-of-type {\n",
       "        vertical-align: middle;\n",
       "    }\n",
       "\n",
       "    .dataframe tbody tr th {\n",
       "        vertical-align: top;\n",
       "    }\n",
       "\n",
       "    .dataframe thead th {\n",
       "        text-align: right;\n",
       "    }\n",
       "</style>\n",
       "<table border=\"1\" class=\"dataframe\">\n",
       "  <thead>\n",
       "    <tr style=\"text-align: right;\">\n",
       "      <th></th>\n",
       "      <th>TurId</th>\n",
       "      <th>Dato</th>\n",
       "      <th>Fylke</th>\n",
       "      <th>Område</th>\n",
       "      <th>Kommune</th>\n",
       "      <th>Holdeplass_Fra</th>\n",
       "      <th>Holdeplass_Til</th>\n",
       "      <th>Linjetype</th>\n",
       "      <th>Linjefylke</th>\n",
       "      <th>Linjenavn</th>\n",
       "      <th>Linjeretning</th>\n",
       "      <th>Tidspunkt_Faktisk_Ankomst_Holdeplass_Fra</th>\n",
       "      <th>Tidspunkt_Faktisk_Avgang_Holdeplass_Fra</th>\n",
       "      <th>Tidspunkt_Planlagt_Ankomst_Holdeplass_Fra</th>\n",
       "      <th>Tidspunkt_Planlagt_Avgang_Holdeplass_Fra</th>\n",
       "      <th>Kjøretøy_Kapasitet</th>\n",
       "      <th>Passasjerer_Ombord</th>\n",
       "    </tr>\n",
       "  </thead>\n",
       "  <tbody>\n",
       "    <tr>\n",
       "      <th>0</th>\n",
       "      <td>15006-2020-08-10T10:24:00+02:00</td>\n",
       "      <td>10/08/2020</td>\n",
       "      <td>Viken</td>\n",
       "      <td>Vest</td>\n",
       "      <td>Bærum</td>\n",
       "      <td>Nordliveien</td>\n",
       "      <td>Tjernsmyr</td>\n",
       "      <td>Lokal</td>\n",
       "      <td>Viken</td>\n",
       "      <td>150</td>\n",
       "      <td>0</td>\n",
       "      <td>10:53:53</td>\n",
       "      <td>10:53:59</td>\n",
       "      <td>10:53:00</td>\n",
       "      <td>10:53:00</td>\n",
       "      <td>112</td>\n",
       "      <td>5</td>\n",
       "    </tr>\n",
       "    <tr>\n",
       "      <th>1</th>\n",
       "      <td>15002-2020-08-15T12:54:00+02:00</td>\n",
       "      <td>15/08/2020</td>\n",
       "      <td>Viken</td>\n",
       "      <td>Vest</td>\n",
       "      <td>Bærum</td>\n",
       "      <td>Nadderud stadion</td>\n",
       "      <td>Bekkestua bussterminal (Plattform C)</td>\n",
       "      <td>Lokal</td>\n",
       "      <td>Viken</td>\n",
       "      <td>150</td>\n",
       "      <td>0</td>\n",
       "      <td>13:12:20</td>\n",
       "      <td>13:12:26</td>\n",
       "      <td>13:12:00</td>\n",
       "      <td>13:12:00</td>\n",
       "      <td>112</td>\n",
       "      <td>5</td>\n",
       "    </tr>\n",
       "    <tr>\n",
       "      <th>2</th>\n",
       "      <td>15004-2020-08-03T09:54:00+02:00</td>\n",
       "      <td>03/08/2020</td>\n",
       "      <td>Viken</td>\n",
       "      <td>Vest</td>\n",
       "      <td>Bærum</td>\n",
       "      <td>Ringstabekkveien</td>\n",
       "      <td>Skallum</td>\n",
       "      <td>Lokal</td>\n",
       "      <td>Viken</td>\n",
       "      <td>150</td>\n",
       "      <td>0</td>\n",
       "      <td>10:18:56</td>\n",
       "      <td>10:19:21</td>\n",
       "      <td>10:19:00</td>\n",
       "      <td>10:19:00</td>\n",
       "      <td>112</td>\n",
       "      <td>6</td>\n",
       "    </tr>\n",
       "    <tr>\n",
       "      <th>3</th>\n",
       "      <td>15003-2020-07-27T13:00:00+02:00</td>\n",
       "      <td>27/07/2020</td>\n",
       "      <td>Viken</td>\n",
       "      <td>Vest</td>\n",
       "      <td>Bærum</td>\n",
       "      <td>Gruvemyra</td>\n",
       "      <td>Gullhaug</td>\n",
       "      <td>Lokal</td>\n",
       "      <td>Viken</td>\n",
       "      <td>150</td>\n",
       "      <td>1</td>\n",
       "      <td>13:52:04</td>\n",
       "      <td>13:52:26</td>\n",
       "      <td>13:51:00</td>\n",
       "      <td>13:51:00</td>\n",
       "      <td>112</td>\n",
       "      <td>10</td>\n",
       "    </tr>\n",
       "    <tr>\n",
       "      <th>4</th>\n",
       "      <td>15002-2020-08-27T07:15:00+02:00</td>\n",
       "      <td>27/08/2020</td>\n",
       "      <td>Viken</td>\n",
       "      <td>Vest</td>\n",
       "      <td>Bærum</td>\n",
       "      <td>Lysaker stasjon (Plattform A)</td>\n",
       "      <td>Tjernsmyr</td>\n",
       "      <td>Lokal</td>\n",
       "      <td>Viken</td>\n",
       "      <td>150</td>\n",
       "      <td>1</td>\n",
       "      <td>07:34:13</td>\n",
       "      <td>07:34:53</td>\n",
       "      <td>07:33:00</td>\n",
       "      <td>07:33:00</td>\n",
       "      <td>112</td>\n",
       "      <td>10</td>\n",
       "    </tr>\n",
       "  </tbody>\n",
       "</table>\n",
       "</div>"
      ],
      "text/plain": [
       "                             TurId        Dato  Fylke Område Kommune  \\\n",
       "0  15006-2020-08-10T10:24:00+02:00  10/08/2020  Viken   Vest   Bærum   \n",
       "1  15002-2020-08-15T12:54:00+02:00  15/08/2020  Viken   Vest   Bærum   \n",
       "2  15004-2020-08-03T09:54:00+02:00  03/08/2020  Viken   Vest   Bærum   \n",
       "3  15003-2020-07-27T13:00:00+02:00  27/07/2020  Viken   Vest   Bærum   \n",
       "4  15002-2020-08-27T07:15:00+02:00  27/08/2020  Viken   Vest   Bærum   \n",
       "\n",
       "                  Holdeplass_Fra                        Holdeplass_Til  \\\n",
       "0                    Nordliveien                             Tjernsmyr   \n",
       "1               Nadderud stadion  Bekkestua bussterminal (Plattform C)   \n",
       "2               Ringstabekkveien                               Skallum   \n",
       "3                      Gruvemyra                              Gullhaug   \n",
       "4  Lysaker stasjon (Plattform A)                             Tjernsmyr   \n",
       "\n",
       "  Linjetype Linjefylke Linjenavn  Linjeretning  \\\n",
       "0     Lokal      Viken       150             0   \n",
       "1     Lokal      Viken       150             0   \n",
       "2     Lokal      Viken       150             0   \n",
       "3     Lokal      Viken       150             1   \n",
       "4     Lokal      Viken       150             1   \n",
       "\n",
       "  Tidspunkt_Faktisk_Ankomst_Holdeplass_Fra  \\\n",
       "0                                 10:53:53   \n",
       "1                                 13:12:20   \n",
       "2                                 10:18:56   \n",
       "3                                 13:52:04   \n",
       "4                                 07:34:13   \n",
       "\n",
       "  Tidspunkt_Faktisk_Avgang_Holdeplass_Fra  \\\n",
       "0                                10:53:59   \n",
       "1                                13:12:26   \n",
       "2                                10:19:21   \n",
       "3                                13:52:26   \n",
       "4                                07:34:53   \n",
       "\n",
       "  Tidspunkt_Planlagt_Ankomst_Holdeplass_Fra  \\\n",
       "0                                  10:53:00   \n",
       "1                                  13:12:00   \n",
       "2                                  10:19:00   \n",
       "3                                  13:51:00   \n",
       "4                                  07:33:00   \n",
       "\n",
       "  Tidspunkt_Planlagt_Avgang_Holdeplass_Fra  Kjøretøy_Kapasitet  \\\n",
       "0                                 10:53:00                 112   \n",
       "1                                 13:12:00                 112   \n",
       "2                                 10:19:00                 112   \n",
       "3                                 13:51:00                 112   \n",
       "4                                 07:33:00                 112   \n",
       "\n",
       "   Passasjerer_Ombord  \n",
       "0                   5  \n",
       "1                   5  \n",
       "2                   6  \n",
       "3                  10  \n",
       "4                  10  "
      ]
     },
     "execution_count": 2,
     "metadata": {},
     "output_type": "execute_result"
    }
   ],
   "source": [
    "url = \"Ruter_data.csv\"\n",
    "\n",
    "\"\"\"\n",
    "Multi line comment example pls use\n",
    "\"\"\"\n",
    "\n",
    "# Reading in the .csv\n",
    "df = pd.read_csv(url, sep=';')\n",
    "# Display what the df object now has read\n",
    "df.head()"
   ]
  },
  {
   "cell_type": "code",
   "execution_count": 3,
   "id": "81a4231f",
   "metadata": {},
   "outputs": [
    {
     "name": "stdout",
     "output_type": "stream",
     "text": [
      "\n"
     ]
    }
   ],
   "source": [
    "\"\"\"\n",
    "TurId = Busnr?-år-måned-dag-tid-tidssone (???????)\n",
    "Virker som at det er en \"tur\" per stopp i en linje\n",
    "\n",
    "\n",
    "TASK 1.1 - Identify 5 unique features from this data set.\n",
    "---------\n",
    "Planned Features:\n",
    "X 1. Avgangs forsinkelser ved å se faktisk avgang vs real avgang\n",
    "X 2. Annkomst Forsinkelser basert på real ankomst vs faktisk annkomst \n",
    "3. Forsinkelser per fylke - can you even do this?\n",
    "\n",
    "X 4. Prosentvis passasjerer per linje (min og max value, finne mest og minst poplær linje)\n",
    "5. Forsinkelser per linje\n",
    "6. Passasjerer per time i døgnet?\n",
    "\n",
    "7. Holdeplasser med størst differanse mellom faktisk annkomst og avreise\n",
    "\n",
    "Actual Features:\n",
    "1. Faktisk_Ventetid_Sekunder\n",
    "2. Faktisk_Forsinkelse_Sekunder\n",
    "3. Ledige_Plasser\n",
    "4. Prosent_Full\n",
    "5. Forsinkelse_Per_Prosent_Full\n",
    "\n",
    "Bonus:\n",
    "Plotte forsinkelser per tid på døgnet\n",
    "\"\"\"\n",
    "\n",
    "#TODO remove this\n",
    "print() #empty makeshift print to avoid comments from being printed"
   ]
  },
  {
   "cell_type": "code",
   "execution_count": 4,
   "id": "d9dc3a7d",
   "metadata": {},
   "outputs": [
    {
     "name": "stdout",
     "output_type": "stream",
     "text": [
      "\n"
     ]
    }
   ],
   "source": [
    "\"\"\"\n",
    "TASK 1.2 - Apply feature engineering on them in Python.\n",
    "--------\n",
    "\n",
    "TODO:\n",
    "- all the things\n",
    "- actually engineer the features\n",
    "\"\"\"\n",
    "print()"
   ]
  },
  {
   "cell_type": "code",
   "execution_count": 5,
   "id": "93569617",
   "metadata": {},
   "outputs": [
    {
     "data": {
      "text/plain": [
       "TurId                                        0\n",
       "Dato                                         0\n",
       "Fylke                                        0\n",
       "Område                                       0\n",
       "Kommune                                      0\n",
       "Holdeplass_Fra                               0\n",
       "Holdeplass_Til                               0\n",
       "Linjetype                                    0\n",
       "Linjefylke                                   0\n",
       "Linjenavn                                    0\n",
       "Linjeretning                                 0\n",
       "Tidspunkt_Faktisk_Ankomst_Holdeplass_Fra     0\n",
       "Tidspunkt_Faktisk_Avgang_Holdeplass_Fra      0\n",
       "Tidspunkt_Planlagt_Ankomst_Holdeplass_Fra    0\n",
       "Tidspunkt_Planlagt_Avgang_Holdeplass_Fra     0\n",
       "Kjøretøy_Kapasitet                           0\n",
       "Passasjerer_Ombord                           0\n",
       "dtype: int64"
      ]
     },
     "execution_count": 5,
     "metadata": {},
     "output_type": "execute_result"
    }
   ],
   "source": [
    "\"\"\"\n",
    "PHASE 1 - Cleaning the data a little\n",
    "\"\"\"\n",
    "\n",
    "#Not finding any nan values.\n",
    "df.isna().sum()"
   ]
  },
  {
   "cell_type": "code",
   "execution_count": 6,
   "id": "f9bc64e7",
   "metadata": {},
   "outputs": [
    {
     "data": {
      "text/plain": [
       "<AxesSubplot:>"
      ]
     },
     "execution_count": 6,
     "metadata": {},
     "output_type": "execute_result"
    },
    {
     "data": {
      "image/png": "[encoded data removed]",
      "text/plain": [
       "<Figure size 432x288 with 1 Axes>"
      ]
     },
     "metadata": {
      "needs_background": "light"
     },
     "output_type": "display_data"
    }
   ],
   "source": [
    "# We see that some trips have recorded negative passenger values, we assume this is due to sensor errors\n",
    "df['Passasjerer_Ombord'].plot.box()"
   ]
  },
  {
   "cell_type": "code",
   "execution_count": 7,
   "id": "d7fd744e",
   "metadata": {},
   "outputs": [
    {
     "data": {
      "text/plain": [
       "<AxesSubplot:>"
      ]
     },
     "execution_count": 7,
     "metadata": {},
     "output_type": "execute_result"
    },
    {
     "data": {
      "image/png": "[encoded data removed]",
      "text/plain": [
       "<Figure size 432x288 with 1 Axes>"
      ]
     },
     "metadata": {
      "needs_background": "light"
     },
     "output_type": "display_data"
    }
   ],
   "source": [
    "# Setting removing the rows with negative values from the dataset.\n",
    "# Could have either just set them to abs(Passasjerer_Ombord) or zero, \n",
    "# but since we do not know the nature of the error then we deem it safest to just delete the affected rows\n",
    "\n",
    "df = df[df.Passasjerer_Ombord >= 0]\n",
    "\n",
    "# Plotting again to check that all negative values are removed.\n",
    "df['Passasjerer_Ombord'].plot.box()"
   ]
  },
  {
   "cell_type": "code",
   "execution_count": 8,
   "id": "95d800af",
   "metadata": {},
   "outputs": [],
   "source": [
    "# Engineering the first value, Faktisk_Ventetid\n",
    "\n",
    "# First we need to make the relevant columns into the datetime format to be able to do calculations with them\n",
    "\n",
    "#TODO - Remove this if not actually needed\n",
    "#df['Tidspunkt_Faktisk_Ankomst_Holdeplass_Fra'] = pd.to_datetime(df['Tidspunkt_Faktisk_Ankomst_Holdeplass_Fra'], format='%H:%M', errors='coerce').dt.time\n",
    "#df['Tidspunkt_Faktisk_Avgang_Holdeplass_Fra'] = pd.to_datetime(df['Tidspunkt_Faktisk_Avgang_Holdeplass_Fra'], format='%H:%M', errors='coerce').dt.time\n",
    "#df['Tidspunkt_Planlagt_Ankomst_Holdeplass_Fra'] = pd.to_datetime(df['Tidspunkt_Planlagt_Ankomst_Holdeplass_Fra'], format='%H:%M', errors='coerce').dt.time\n",
    "#df['Tidspunkt_Planlagt_Avgang_Holdeplass_Fra'] = pd.to_datetime(df['Tidspunkt_Planlagt_Avgang_Holdeplass_Fra'], format='%H:%M', errors='coerce').dt.time\n",
    "#errors='coerce'  puts a NaT value (NaT = dummy var for missing value)\n",
    "\n",
    "#df.head()\n"
   ]
  },
  {
   "cell_type": "code",
   "execution_count": 9,
   "id": "a85c38c0",
   "metadata": {},
   "outputs": [
    {
     "data": {
      "text/html": [
       "<div>\n",
       "<style scoped>\n",
       "    .dataframe tbody tr th:only-of-type {\n",
       "        vertical-align: middle;\n",
       "    }\n",
       "\n",
       "    .dataframe tbody tr th {\n",
       "        vertical-align: top;\n",
       "    }\n",
       "\n",
       "    .dataframe thead th {\n",
       "        text-align: right;\n",
       "    }\n",
       "</style>\n",
       "<table border=\"1\" class=\"dataframe\">\n",
       "  <thead>\n",
       "    <tr style=\"text-align: right;\">\n",
       "      <th></th>\n",
       "      <th>TurId</th>\n",
       "      <th>Dato</th>\n",
       "      <th>Fylke</th>\n",
       "      <th>Område</th>\n",
       "      <th>Kommune</th>\n",
       "      <th>Holdeplass_Fra</th>\n",
       "      <th>Holdeplass_Til</th>\n",
       "      <th>Linjetype</th>\n",
       "      <th>Linjefylke</th>\n",
       "      <th>Linjenavn</th>\n",
       "      <th>Linjeretning</th>\n",
       "      <th>Tidspunkt_Faktisk_Ankomst_Holdeplass_Fra</th>\n",
       "      <th>Tidspunkt_Faktisk_Avgang_Holdeplass_Fra</th>\n",
       "      <th>Tidspunkt_Planlagt_Ankomst_Holdeplass_Fra</th>\n",
       "      <th>Tidspunkt_Planlagt_Avgang_Holdeplass_Fra</th>\n",
       "      <th>Kjøretøy_Kapasitet</th>\n",
       "      <th>Passasjerer_Ombord</th>\n",
       "      <th>Faktisk_Ventetid_Sekunder</th>\n",
       "    </tr>\n",
       "  </thead>\n",
       "  <tbody>\n",
       "    <tr>\n",
       "      <th>0</th>\n",
       "      <td>15006-2020-08-10T10:24:00+02:00</td>\n",
       "      <td>10/08/2020</td>\n",
       "      <td>Viken</td>\n",
       "      <td>Vest</td>\n",
       "      <td>Bærum</td>\n",
       "      <td>Nordliveien</td>\n",
       "      <td>Tjernsmyr</td>\n",
       "      <td>Lokal</td>\n",
       "      <td>Viken</td>\n",
       "      <td>150</td>\n",
       "      <td>0</td>\n",
       "      <td>10:53:53</td>\n",
       "      <td>10:53:59</td>\n",
       "      <td>10:53:00</td>\n",
       "      <td>10:53:00</td>\n",
       "      <td>112</td>\n",
       "      <td>5</td>\n",
       "      <td>6.0</td>\n",
       "    </tr>\n",
       "    <tr>\n",
       "      <th>1</th>\n",
       "      <td>15002-2020-08-15T12:54:00+02:00</td>\n",
       "      <td>15/08/2020</td>\n",
       "      <td>Viken</td>\n",
       "      <td>Vest</td>\n",
       "      <td>Bærum</td>\n",
       "      <td>Nadderud stadion</td>\n",
       "      <td>Bekkestua bussterminal (Plattform C)</td>\n",
       "      <td>Lokal</td>\n",
       "      <td>Viken</td>\n",
       "      <td>150</td>\n",
       "      <td>0</td>\n",
       "      <td>13:12:20</td>\n",
       "      <td>13:12:26</td>\n",
       "      <td>13:12:00</td>\n",
       "      <td>13:12:00</td>\n",
       "      <td>112</td>\n",
       "      <td>5</td>\n",
       "      <td>6.0</td>\n",
       "    </tr>\n",
       "    <tr>\n",
       "      <th>2</th>\n",
       "      <td>15004-2020-08-03T09:54:00+02:00</td>\n",
       "      <td>03/08/2020</td>\n",
       "      <td>Viken</td>\n",
       "      <td>Vest</td>\n",
       "      <td>Bærum</td>\n",
       "      <td>Ringstabekkveien</td>\n",
       "      <td>Skallum</td>\n",
       "      <td>Lokal</td>\n",
       "      <td>Viken</td>\n",
       "      <td>150</td>\n",
       "      <td>0</td>\n",
       "      <td>10:18:56</td>\n",
       "      <td>10:19:21</td>\n",
       "      <td>10:19:00</td>\n",
       "      <td>10:19:00</td>\n",
       "      <td>112</td>\n",
       "      <td>6</td>\n",
       "      <td>25.0</td>\n",
       "    </tr>\n",
       "    <tr>\n",
       "      <th>3</th>\n",
       "      <td>15003-2020-07-27T13:00:00+02:00</td>\n",
       "      <td>27/07/2020</td>\n",
       "      <td>Viken</td>\n",
       "      <td>Vest</td>\n",
       "      <td>Bærum</td>\n",
       "      <td>Gruvemyra</td>\n",
       "      <td>Gullhaug</td>\n",
       "      <td>Lokal</td>\n",
       "      <td>Viken</td>\n",
       "      <td>150</td>\n",
       "      <td>1</td>\n",
       "      <td>13:52:04</td>\n",
       "      <td>13:52:26</td>\n",
       "      <td>13:51:00</td>\n",
       "      <td>13:51:00</td>\n",
       "      <td>112</td>\n",
       "      <td>10</td>\n",
       "      <td>22.0</td>\n",
       "    </tr>\n",
       "    <tr>\n",
       "      <th>4</th>\n",
       "      <td>15002-2020-08-27T07:15:00+02:00</td>\n",
       "      <td>27/08/2020</td>\n",
       "      <td>Viken</td>\n",
       "      <td>Vest</td>\n",
       "      <td>Bærum</td>\n",
       "      <td>Lysaker stasjon (Plattform A)</td>\n",
       "      <td>Tjernsmyr</td>\n",
       "      <td>Lokal</td>\n",
       "      <td>Viken</td>\n",
       "      <td>150</td>\n",
       "      <td>1</td>\n",
       "      <td>07:34:13</td>\n",
       "      <td>07:34:53</td>\n",
       "      <td>07:33:00</td>\n",
       "      <td>07:33:00</td>\n",
       "      <td>112</td>\n",
       "      <td>10</td>\n",
       "      <td>40.0</td>\n",
       "    </tr>\n",
       "  </tbody>\n",
       "</table>\n",
       "</div>"
      ],
      "text/plain": [
       "                             TurId        Dato  Fylke Område Kommune  \\\n",
       "0  15006-2020-08-10T10:24:00+02:00  10/08/2020  Viken   Vest   Bærum   \n",
       "1  15002-2020-08-15T12:54:00+02:00  15/08/2020  Viken   Vest   Bærum   \n",
       "2  15004-2020-08-03T09:54:00+02:00  03/08/2020  Viken   Vest   Bærum   \n",
       "3  15003-2020-07-27T13:00:00+02:00  27/07/2020  Viken   Vest   Bærum   \n",
       "4  15002-2020-08-27T07:15:00+02:00  27/08/2020  Viken   Vest   Bærum   \n",
       "\n",
       "                  Holdeplass_Fra                        Holdeplass_Til  \\\n",
       "0                    Nordliveien                             Tjernsmyr   \n",
       "1               Nadderud stadion  Bekkestua bussterminal (Plattform C)   \n",
       "2               Ringstabekkveien                               Skallum   \n",
       "3                      Gruvemyra                              Gullhaug   \n",
       "4  Lysaker stasjon (Plattform A)                             Tjernsmyr   \n",
       "\n",
       "  Linjetype Linjefylke Linjenavn  Linjeretning  \\\n",
       "0     Lokal      Viken       150             0   \n",
       "1     Lokal      Viken       150             0   \n",
       "2     Lokal      Viken       150             0   \n",
       "3     Lokal      Viken       150             1   \n",
       "4     Lokal      Viken       150             1   \n",
       "\n",
       "  Tidspunkt_Faktisk_Ankomst_Holdeplass_Fra  \\\n",
       "0                                 10:53:53   \n",
       "1                                 13:12:20   \n",
       "2                                 10:18:56   \n",
       "3                                 13:52:04   \n",
       "4                                 07:34:13   \n",
       "\n",
       "  Tidspunkt_Faktisk_Avgang_Holdeplass_Fra  \\\n",
       "0                                10:53:59   \n",
       "1                                13:12:26   \n",
       "2                                10:19:21   \n",
       "3                                13:52:26   \n",
       "4                                07:34:53   \n",
       "\n",
       "  Tidspunkt_Planlagt_Ankomst_Holdeplass_Fra  \\\n",
       "0                                  10:53:00   \n",
       "1                                  13:12:00   \n",
       "2                                  10:19:00   \n",
       "3                                  13:51:00   \n",
       "4                                  07:33:00   \n",
       "\n",
       "  Tidspunkt_Planlagt_Avgang_Holdeplass_Fra  Kjøretøy_Kapasitet  \\\n",
       "0                                 10:53:00                 112   \n",
       "1                                 13:12:00                 112   \n",
       "2                                 10:19:00                 112   \n",
       "3                                 13:51:00                 112   \n",
       "4                                 07:33:00                 112   \n",
       "\n",
       "   Passasjerer_Ombord  Faktisk_Ventetid_Sekunder  \n",
       "0                   5                        6.0  \n",
       "1                   5                        6.0  \n",
       "2                   6                       25.0  \n",
       "3                  10                       22.0  \n",
       "4                  10                       40.0  "
      ]
     },
     "execution_count": 9,
     "metadata": {},
     "output_type": "execute_result"
    }
   ],
   "source": [
    "df['Faktisk_Ventetid_Sekunder'] = pd.to_datetime(df['Tidspunkt_Faktisk_Avgang_Holdeplass_Fra'], errors='coerce').view(int)/ 10**9 - pd.to_datetime(df['Tidspunkt_Faktisk_Ankomst_Holdeplass_Fra'], errors='coerce').view(int)/ 10**9\n",
    "df.head()"
   ]
  },
  {
   "cell_type": "code",
   "execution_count": 10,
   "id": "8aa5c4e3",
   "metadata": {},
   "outputs": [],
   "source": [
    "df['Faktisk_Ventetid_Sekunder'] = pd.to_numeric(df['Faktisk_Ventetid_Sekunder'], downcast='integer')"
   ]
  },
  {
   "cell_type": "code",
   "execution_count": 11,
   "id": "e3e2aa15",
   "metadata": {},
   "outputs": [
    {
     "data": {
      "text/plain": [
       "<AxesSubplot:>"
      ]
     },
     "execution_count": 11,
     "metadata": {},
     "output_type": "execute_result"
    },
    {
     "data": {
      "image/png": "[encoded data removed]",
      "text/plain": [
       "<Figure size 432x288 with 1 Axes>"
      ]
     },
     "metadata": {
      "needs_background": "light"
     },
     "output_type": "display_data"
    }
   ],
   "source": [
    "# Cleaning out the wierd and wrong values\n",
    "df = df[df.Faktisk_Ventetid_Sekunder <= 100000]\n",
    "df = df[df.Faktisk_Ventetid_Sekunder >= 0]\n",
    "\n",
    "df['Faktisk_Ventetid_Sekunder'].plot.box()"
   ]
  },
  {
   "cell_type": "code",
   "execution_count": 12,
   "id": "16ab9ff2",
   "metadata": {},
   "outputs": [
    {
     "data": {
      "text/html": [
       "<div>\n",
       "<style scoped>\n",
       "    .dataframe tbody tr th:only-of-type {\n",
       "        vertical-align: middle;\n",
       "    }\n",
       "\n",
       "    .dataframe tbody tr th {\n",
       "        vertical-align: top;\n",
       "    }\n",
       "\n",
       "    .dataframe thead th {\n",
       "        text-align: right;\n",
       "    }\n",
       "</style>\n",
       "<table border=\"1\" class=\"dataframe\">\n",
       "  <thead>\n",
       "    <tr style=\"text-align: right;\">\n",
       "      <th></th>\n",
       "      <th>TurId</th>\n",
       "      <th>Dato</th>\n",
       "      <th>Fylke</th>\n",
       "      <th>Område</th>\n",
       "      <th>Kommune</th>\n",
       "      <th>Holdeplass_Fra</th>\n",
       "      <th>Holdeplass_Til</th>\n",
       "      <th>Linjetype</th>\n",
       "      <th>Linjefylke</th>\n",
       "      <th>Linjenavn</th>\n",
       "      <th>Linjeretning</th>\n",
       "      <th>Tidspunkt_Faktisk_Ankomst_Holdeplass_Fra</th>\n",
       "      <th>Tidspunkt_Faktisk_Avgang_Holdeplass_Fra</th>\n",
       "      <th>Tidspunkt_Planlagt_Ankomst_Holdeplass_Fra</th>\n",
       "      <th>Tidspunkt_Planlagt_Avgang_Holdeplass_Fra</th>\n",
       "      <th>Kjøretøy_Kapasitet</th>\n",
       "      <th>Passasjerer_Ombord</th>\n",
       "      <th>Faktisk_Ventetid_Sekunder</th>\n",
       "      <th>Faktisk_Forsinkelse_Sekunder</th>\n",
       "    </tr>\n",
       "  </thead>\n",
       "  <tbody>\n",
       "    <tr>\n",
       "      <th>0</th>\n",
       "      <td>15006-2020-08-10T10:24:00+02:00</td>\n",
       "      <td>10/08/2020</td>\n",
       "      <td>Viken</td>\n",
       "      <td>Vest</td>\n",
       "      <td>Bærum</td>\n",
       "      <td>Nordliveien</td>\n",
       "      <td>Tjernsmyr</td>\n",
       "      <td>Lokal</td>\n",
       "      <td>Viken</td>\n",
       "      <td>150</td>\n",
       "      <td>0</td>\n",
       "      <td>10:53:53</td>\n",
       "      <td>10:53:59</td>\n",
       "      <td>10:53:00</td>\n",
       "      <td>10:53:00</td>\n",
       "      <td>112</td>\n",
       "      <td>5</td>\n",
       "      <td>6.0</td>\n",
       "      <td>53.0</td>\n",
       "    </tr>\n",
       "    <tr>\n",
       "      <th>1</th>\n",
       "      <td>15002-2020-08-15T12:54:00+02:00</td>\n",
       "      <td>15/08/2020</td>\n",
       "      <td>Viken</td>\n",
       "      <td>Vest</td>\n",
       "      <td>Bærum</td>\n",
       "      <td>Nadderud stadion</td>\n",
       "      <td>Bekkestua bussterminal (Plattform C)</td>\n",
       "      <td>Lokal</td>\n",
       "      <td>Viken</td>\n",
       "      <td>150</td>\n",
       "      <td>0</td>\n",
       "      <td>13:12:20</td>\n",
       "      <td>13:12:26</td>\n",
       "      <td>13:12:00</td>\n",
       "      <td>13:12:00</td>\n",
       "      <td>112</td>\n",
       "      <td>5</td>\n",
       "      <td>6.0</td>\n",
       "      <td>20.0</td>\n",
       "    </tr>\n",
       "    <tr>\n",
       "      <th>2</th>\n",
       "      <td>15004-2020-08-03T09:54:00+02:00</td>\n",
       "      <td>03/08/2020</td>\n",
       "      <td>Viken</td>\n",
       "      <td>Vest</td>\n",
       "      <td>Bærum</td>\n",
       "      <td>Ringstabekkveien</td>\n",
       "      <td>Skallum</td>\n",
       "      <td>Lokal</td>\n",
       "      <td>Viken</td>\n",
       "      <td>150</td>\n",
       "      <td>0</td>\n",
       "      <td>10:18:56</td>\n",
       "      <td>10:19:21</td>\n",
       "      <td>10:19:00</td>\n",
       "      <td>10:19:00</td>\n",
       "      <td>112</td>\n",
       "      <td>6</td>\n",
       "      <td>25.0</td>\n",
       "      <td>-4.0</td>\n",
       "    </tr>\n",
       "    <tr>\n",
       "      <th>3</th>\n",
       "      <td>15003-2020-07-27T13:00:00+02:00</td>\n",
       "      <td>27/07/2020</td>\n",
       "      <td>Viken</td>\n",
       "      <td>Vest</td>\n",
       "      <td>Bærum</td>\n",
       "      <td>Gruvemyra</td>\n",
       "      <td>Gullhaug</td>\n",
       "      <td>Lokal</td>\n",
       "      <td>Viken</td>\n",
       "      <td>150</td>\n",
       "      <td>1</td>\n",
       "      <td>13:52:04</td>\n",
       "      <td>13:52:26</td>\n",
       "      <td>13:51:00</td>\n",
       "      <td>13:51:00</td>\n",
       "      <td>112</td>\n",
       "      <td>10</td>\n",
       "      <td>22.0</td>\n",
       "      <td>64.0</td>\n",
       "    </tr>\n",
       "    <tr>\n",
       "      <th>4</th>\n",
       "      <td>15002-2020-08-27T07:15:00+02:00</td>\n",
       "      <td>27/08/2020</td>\n",
       "      <td>Viken</td>\n",
       "      <td>Vest</td>\n",
       "      <td>Bærum</td>\n",
       "      <td>Lysaker stasjon (Plattform A)</td>\n",
       "      <td>Tjernsmyr</td>\n",
       "      <td>Lokal</td>\n",
       "      <td>Viken</td>\n",
       "      <td>150</td>\n",
       "      <td>1</td>\n",
       "      <td>07:34:13</td>\n",
       "      <td>07:34:53</td>\n",
       "      <td>07:33:00</td>\n",
       "      <td>07:33:00</td>\n",
       "      <td>112</td>\n",
       "      <td>10</td>\n",
       "      <td>40.0</td>\n",
       "      <td>73.0</td>\n",
       "    </tr>\n",
       "  </tbody>\n",
       "</table>\n",
       "</div>"
      ],
      "text/plain": [
       "                             TurId        Dato  Fylke Område Kommune  \\\n",
       "0  15006-2020-08-10T10:24:00+02:00  10/08/2020  Viken   Vest   Bærum   \n",
       "1  15002-2020-08-15T12:54:00+02:00  15/08/2020  Viken   Vest   Bærum   \n",
       "2  15004-2020-08-03T09:54:00+02:00  03/08/2020  Viken   Vest   Bærum   \n",
       "3  15003-2020-07-27T13:00:00+02:00  27/07/2020  Viken   Vest   Bærum   \n",
       "4  15002-2020-08-27T07:15:00+02:00  27/08/2020  Viken   Vest   Bærum   \n",
       "\n",
       "                  Holdeplass_Fra                        Holdeplass_Til  \\\n",
       "0                    Nordliveien                             Tjernsmyr   \n",
       "1               Nadderud stadion  Bekkestua bussterminal (Plattform C)   \n",
       "2               Ringstabekkveien                               Skallum   \n",
       "3                      Gruvemyra                              Gullhaug   \n",
       "4  Lysaker stasjon (Plattform A)                             Tjernsmyr   \n",
       "\n",
       "  Linjetype Linjefylke Linjenavn  Linjeretning  \\\n",
       "0     Lokal      Viken       150             0   \n",
       "1     Lokal      Viken       150             0   \n",
       "2     Lokal      Viken       150             0   \n",
       "3     Lokal      Viken       150             1   \n",
       "4     Lokal      Viken       150             1   \n",
       "\n",
       "  Tidspunkt_Faktisk_Ankomst_Holdeplass_Fra  \\\n",
       "0                                 10:53:53   \n",
       "1                                 13:12:20   \n",
       "2                                 10:18:56   \n",
       "3                                 13:52:04   \n",
       "4                                 07:34:13   \n",
       "\n",
       "  Tidspunkt_Faktisk_Avgang_Holdeplass_Fra  \\\n",
       "0                                10:53:59   \n",
       "1                                13:12:26   \n",
       "2                                10:19:21   \n",
       "3                                13:52:26   \n",
       "4                                07:34:53   \n",
       "\n",
       "  Tidspunkt_Planlagt_Ankomst_Holdeplass_Fra  \\\n",
       "0                                  10:53:00   \n",
       "1                                  13:12:00   \n",
       "2                                  10:19:00   \n",
       "3                                  13:51:00   \n",
       "4                                  07:33:00   \n",
       "\n",
       "  Tidspunkt_Planlagt_Avgang_Holdeplass_Fra  Kjøretøy_Kapasitet  \\\n",
       "0                                 10:53:00                 112   \n",
       "1                                 13:12:00                 112   \n",
       "2                                 10:19:00                 112   \n",
       "3                                 13:51:00                 112   \n",
       "4                                 07:33:00                 112   \n",
       "\n",
       "   Passasjerer_Ombord  Faktisk_Ventetid_Sekunder  Faktisk_Forsinkelse_Sekunder  \n",
       "0                   5                        6.0                          53.0  \n",
       "1                   5                        6.0                          20.0  \n",
       "2                   6                       25.0                          -4.0  \n",
       "3                  10                       22.0                          64.0  \n",
       "4                  10                       40.0                          73.0  "
      ]
     },
     "execution_count": 12,
     "metadata": {},
     "output_type": "execute_result"
    }
   ],
   "source": [
    "\"\"\"\n",
    "Considering the first value engineered and cleaned.\n",
    "\n",
    "Now making Faktisk forsinkelse per trip\n",
    "\"\"\"\n",
    "\n",
    "df['Faktisk_Forsinkelse_Sekunder'] = pd.to_datetime(df['Tidspunkt_Faktisk_Ankomst_Holdeplass_Fra'], errors='coerce').view(int)/ 10**9 - pd.to_datetime(df['Tidspunkt_Planlagt_Ankomst_Holdeplass_Fra'], errors='coerce').view(int)/ 10**9\n",
    "df.head()"
   ]
  },
  {
   "cell_type": "code",
   "execution_count": 13,
   "id": "25e79f5c",
   "metadata": {},
   "outputs": [
    {
     "data": {
      "text/plain": [
       "<AxesSubplot:>"
      ]
     },
     "execution_count": 13,
     "metadata": {},
     "output_type": "execute_result"
    },
    {
     "data": {
      "image/png": "[encoded data removed]",
      "text/plain": [
       "<Figure size 432x288 with 1 Axes>"
      ]
     },
     "metadata": {
      "needs_background": "light"
     },
     "output_type": "display_data"
    }
   ],
   "source": [
    "#Checking for anomalies\n",
    "# Cleaning out the wierd and wrong values\n",
    "df = df[df.Faktisk_Forsinkelse_Sekunder <= 1000000]\n",
    "df = df[df.Faktisk_Forsinkelse_Sekunder >= -1000000]\n",
    "\n",
    "df['Faktisk_Forsinkelse_Sekunder'].plot.box()"
   ]
  },
  {
   "cell_type": "code",
   "execution_count": 14,
   "id": "9260a5ae",
   "metadata": {},
   "outputs": [
    {
     "data": {
      "text/plain": [
       "<AxesSubplot:>"
      ]
     },
     "execution_count": 14,
     "metadata": {},
     "output_type": "execute_result"
    },
    {
     "data": {
      "image/png": "[encoded data removed]",
      "text/plain": [
       "<Figure size 432x288 with 1 Axes>"
      ]
     },
     "metadata": {
      "needs_background": "light"
     },
     "output_type": "display_data"
    }
   ],
   "source": [
    "\"\"\"\n",
    "Considering Second Feature engineered\n",
    "\n",
    "Enineering third feature, Ledige_Plasser\n",
    "\"\"\"\n",
    "\n",
    "#Checking capasity values\n",
    "df['Kjøretøy_Kapasitet'].plot.box()"
   ]
  },
  {
   "cell_type": "code",
   "execution_count": 15,
   "id": "25005123",
   "metadata": {},
   "outputs": [
    {
     "data": {
      "text/plain": [
       "<AxesSubplot:>"
      ]
     },
     "execution_count": 15,
     "metadata": {},
     "output_type": "execute_result"
    },
    {
     "data": {
      "image/png": "[encoded data removed]",
      "text/plain": [
       "<Figure size 432x288 with 1 Axes>"
      ]
     },
     "metadata": {
      "needs_background": "light"
     },
     "output_type": "display_data"
    }
   ],
   "source": [
    "df['Ledige_Plasser'] = df['Kjøretøy_Kapasitet'] - df['Passasjerer_Ombord']\n",
    "\n",
    "df['Ledige_Plasser'].plot.box()"
   ]
  },
  {
   "cell_type": "code",
   "execution_count": 16,
   "id": "7d1db26b",
   "metadata": {},
   "outputs": [
    {
     "data": {
      "text/html": [
       "<div>\n",
       "<style scoped>\n",
       "    .dataframe tbody tr th:only-of-type {\n",
       "        vertical-align: middle;\n",
       "    }\n",
       "\n",
       "    .dataframe tbody tr th {\n",
       "        vertical-align: top;\n",
       "    }\n",
       "\n",
       "    .dataframe thead th {\n",
       "        text-align: right;\n",
       "    }\n",
       "</style>\n",
       "<table border=\"1\" class=\"dataframe\">\n",
       "  <thead>\n",
       "    <tr style=\"text-align: right;\">\n",
       "      <th></th>\n",
       "      <th>TurId</th>\n",
       "      <th>Dato</th>\n",
       "      <th>Fylke</th>\n",
       "      <th>Område</th>\n",
       "      <th>Kommune</th>\n",
       "      <th>Holdeplass_Fra</th>\n",
       "      <th>Holdeplass_Til</th>\n",
       "      <th>Linjetype</th>\n",
       "      <th>Linjefylke</th>\n",
       "      <th>Linjenavn</th>\n",
       "      <th>...</th>\n",
       "      <th>Tidspunkt_Faktisk_Ankomst_Holdeplass_Fra</th>\n",
       "      <th>Tidspunkt_Faktisk_Avgang_Holdeplass_Fra</th>\n",
       "      <th>Tidspunkt_Planlagt_Ankomst_Holdeplass_Fra</th>\n",
       "      <th>Tidspunkt_Planlagt_Avgang_Holdeplass_Fra</th>\n",
       "      <th>Kjøretøy_Kapasitet</th>\n",
       "      <th>Passasjerer_Ombord</th>\n",
       "      <th>Faktisk_Ventetid_Sekunder</th>\n",
       "      <th>Faktisk_Forsinkelse_Sekunder</th>\n",
       "      <th>Ledige_Plasser</th>\n",
       "      <th>Prosent_Full</th>\n",
       "    </tr>\n",
       "  </thead>\n",
       "  <tbody>\n",
       "    <tr>\n",
       "      <th>0</th>\n",
       "      <td>15006-2020-08-10T10:24:00+02:00</td>\n",
       "      <td>10/08/2020</td>\n",
       "      <td>Viken</td>\n",
       "      <td>Vest</td>\n",
       "      <td>Bærum</td>\n",
       "      <td>Nordliveien</td>\n",
       "      <td>Tjernsmyr</td>\n",
       "      <td>Lokal</td>\n",
       "      <td>Viken</td>\n",
       "      <td>150</td>\n",
       "      <td>...</td>\n",
       "      <td>10:53:53</td>\n",
       "      <td>10:53:59</td>\n",
       "      <td>10:53:00</td>\n",
       "      <td>10:53:00</td>\n",
       "      <td>112</td>\n",
       "      <td>5</td>\n",
       "      <td>6.0</td>\n",
       "      <td>53.0</td>\n",
       "      <td>107</td>\n",
       "      <td>4.464286</td>\n",
       "    </tr>\n",
       "    <tr>\n",
       "      <th>1</th>\n",
       "      <td>15002-2020-08-15T12:54:00+02:00</td>\n",
       "      <td>15/08/2020</td>\n",
       "      <td>Viken</td>\n",
       "      <td>Vest</td>\n",
       "      <td>Bærum</td>\n",
       "      <td>Nadderud stadion</td>\n",
       "      <td>Bekkestua bussterminal (Plattform C)</td>\n",
       "      <td>Lokal</td>\n",
       "      <td>Viken</td>\n",
       "      <td>150</td>\n",
       "      <td>...</td>\n",
       "      <td>13:12:20</td>\n",
       "      <td>13:12:26</td>\n",
       "      <td>13:12:00</td>\n",
       "      <td>13:12:00</td>\n",
       "      <td>112</td>\n",
       "      <td>5</td>\n",
       "      <td>6.0</td>\n",
       "      <td>20.0</td>\n",
       "      <td>107</td>\n",
       "      <td>4.464286</td>\n",
       "    </tr>\n",
       "    <tr>\n",
       "      <th>2</th>\n",
       "      <td>15004-2020-08-03T09:54:00+02:00</td>\n",
       "      <td>03/08/2020</td>\n",
       "      <td>Viken</td>\n",
       "      <td>Vest</td>\n",
       "      <td>Bærum</td>\n",
       "      <td>Ringstabekkveien</td>\n",
       "      <td>Skallum</td>\n",
       "      <td>Lokal</td>\n",
       "      <td>Viken</td>\n",
       "      <td>150</td>\n",
       "      <td>...</td>\n",
       "      <td>10:18:56</td>\n",
       "      <td>10:19:21</td>\n",
       "      <td>10:19:00</td>\n",
       "      <td>10:19:00</td>\n",
       "      <td>112</td>\n",
       "      <td>6</td>\n",
       "      <td>25.0</td>\n",
       "      <td>-4.0</td>\n",
       "      <td>106</td>\n",
       "      <td>5.357143</td>\n",
       "    </tr>\n",
       "    <tr>\n",
       "      <th>3</th>\n",
       "      <td>15003-2020-07-27T13:00:00+02:00</td>\n",
       "      <td>27/07/2020</td>\n",
       "      <td>Viken</td>\n",
       "      <td>Vest</td>\n",
       "      <td>Bærum</td>\n",
       "      <td>Gruvemyra</td>\n",
       "      <td>Gullhaug</td>\n",
       "      <td>Lokal</td>\n",
       "      <td>Viken</td>\n",
       "      <td>150</td>\n",
       "      <td>...</td>\n",
       "      <td>13:52:04</td>\n",
       "      <td>13:52:26</td>\n",
       "      <td>13:51:00</td>\n",
       "      <td>13:51:00</td>\n",
       "      <td>112</td>\n",
       "      <td>10</td>\n",
       "      <td>22.0</td>\n",
       "      <td>64.0</td>\n",
       "      <td>102</td>\n",
       "      <td>8.928571</td>\n",
       "    </tr>\n",
       "    <tr>\n",
       "      <th>4</th>\n",
       "      <td>15002-2020-08-27T07:15:00+02:00</td>\n",
       "      <td>27/08/2020</td>\n",
       "      <td>Viken</td>\n",
       "      <td>Vest</td>\n",
       "      <td>Bærum</td>\n",
       "      <td>Lysaker stasjon (Plattform A)</td>\n",
       "      <td>Tjernsmyr</td>\n",
       "      <td>Lokal</td>\n",
       "      <td>Viken</td>\n",
       "      <td>150</td>\n",
       "      <td>...</td>\n",
       "      <td>07:34:13</td>\n",
       "      <td>07:34:53</td>\n",
       "      <td>07:33:00</td>\n",
       "      <td>07:33:00</td>\n",
       "      <td>112</td>\n",
       "      <td>10</td>\n",
       "      <td>40.0</td>\n",
       "      <td>73.0</td>\n",
       "      <td>102</td>\n",
       "      <td>8.928571</td>\n",
       "    </tr>\n",
       "  </tbody>\n",
       "</table>\n",
       "<p>5 rows × 21 columns</p>\n",
       "</div>"
      ],
      "text/plain": [
       "                             TurId        Dato  Fylke Område Kommune  \\\n",
       "0  15006-2020-08-10T10:24:00+02:00  10/08/2020  Viken   Vest   Bærum   \n",
       "1  15002-2020-08-15T12:54:00+02:00  15/08/2020  Viken   Vest   Bærum   \n",
       "2  15004-2020-08-03T09:54:00+02:00  03/08/2020  Viken   Vest   Bærum   \n",
       "3  15003-2020-07-27T13:00:00+02:00  27/07/2020  Viken   Vest   Bærum   \n",
       "4  15002-2020-08-27T07:15:00+02:00  27/08/2020  Viken   Vest   Bærum   \n",
       "\n",
       "                  Holdeplass_Fra                        Holdeplass_Til  \\\n",
       "0                    Nordliveien                             Tjernsmyr   \n",
       "1               Nadderud stadion  Bekkestua bussterminal (Plattform C)   \n",
       "2               Ringstabekkveien                               Skallum   \n",
       "3                      Gruvemyra                              Gullhaug   \n",
       "4  Lysaker stasjon (Plattform A)                             Tjernsmyr   \n",
       "\n",
       "  Linjetype Linjefylke Linjenavn  ...  \\\n",
       "0     Lokal      Viken       150  ...   \n",
       "1     Lokal      Viken       150  ...   \n",
       "2     Lokal      Viken       150  ...   \n",
       "3     Lokal      Viken       150  ...   \n",
       "4     Lokal      Viken       150  ...   \n",
       "\n",
       "   Tidspunkt_Faktisk_Ankomst_Holdeplass_Fra  \\\n",
       "0                                  10:53:53   \n",
       "1                                  13:12:20   \n",
       "2                                  10:18:56   \n",
       "3                                  13:52:04   \n",
       "4                                  07:34:13   \n",
       "\n",
       "  Tidspunkt_Faktisk_Avgang_Holdeplass_Fra  \\\n",
       "0                                10:53:59   \n",
       "1                                13:12:26   \n",
       "2                                10:19:21   \n",
       "3                                13:52:26   \n",
       "4                                07:34:53   \n",
       "\n",
       "  Tidspunkt_Planlagt_Ankomst_Holdeplass_Fra  \\\n",
       "0                                  10:53:00   \n",
       "1                                  13:12:00   \n",
       "2                                  10:19:00   \n",
       "3                                  13:51:00   \n",
       "4                                  07:33:00   \n",
       "\n",
       "  Tidspunkt_Planlagt_Avgang_Holdeplass_Fra Kjøretøy_Kapasitet  \\\n",
       "0                                 10:53:00                112   \n",
       "1                                 13:12:00                112   \n",
       "2                                 10:19:00                112   \n",
       "3                                 13:51:00                112   \n",
       "4                                 07:33:00                112   \n",
       "\n",
       "   Passasjerer_Ombord  Faktisk_Ventetid_Sekunder  \\\n",
       "0                   5                        6.0   \n",
       "1                   5                        6.0   \n",
       "2                   6                       25.0   \n",
       "3                  10                       22.0   \n",
       "4                  10                       40.0   \n",
       "\n",
       "   Faktisk_Forsinkelse_Sekunder  Ledige_Plasser  Prosent_Full  \n",
       "0                          53.0             107      4.464286  \n",
       "1                          20.0             107      4.464286  \n",
       "2                          -4.0             106      5.357143  \n",
       "3                          64.0             102      8.928571  \n",
       "4                          73.0             102      8.928571  \n",
       "\n",
       "[5 rows x 21 columns]"
      ]
     },
     "execution_count": 16,
     "metadata": {},
     "output_type": "execute_result"
    }
   ],
   "source": [
    "\"\"\"\n",
    "Looks okay.\n",
    "Consering third feature engineered.\n",
    "\n",
    "Moving on to engineer percentage of bus filled.\n",
    "\"\"\"\n",
    "\n",
    "# Setting percentage full in actual percentage value. tho like who even reads percentage as that i dunno\n",
    "# shareholders?\n",
    "df['Prosent_Full'] = df['Passasjerer_Ombord'] / df['Kjøretøy_Kapasitet'] * 100\n",
    "\n",
    "df.head()"
   ]
  },
  {
   "cell_type": "code",
   "execution_count": 17,
   "id": "8a6edc80",
   "metadata": {},
   "outputs": [
    {
     "data": {
      "text/plain": [
       "<AxesSubplot:>"
      ]
     },
     "execution_count": 17,
     "metadata": {},
     "output_type": "execute_result"
    },
    {
     "data": {
      "image/png": "[encoded data removed]",
      "text/plain": [
       "<Figure size 432x288 with 1 Axes>"
      ]
     },
     "metadata": {
      "needs_background": "light"
     },
     "output_type": "display_data"
    }
   ],
   "source": [
    "df['Prosent_Full'].plot.box()"
   ]
  },
  {
   "cell_type": "code",
   "execution_count": 18,
   "id": "557605a4",
   "metadata": {},
   "outputs": [
    {
     "data": {
      "text/plain": [
       "<AxesSubplot:>"
      ]
     },
     "execution_count": 18,
     "metadata": {},
     "output_type": "execute_result"
    },
    {
     "data": {
      "image/png": "[encoded data removed]",
      "text/plain": [
       "<Figure size 432x288 with 1 Axes>"
      ]
     },
     "metadata": {
      "needs_background": "light"
     },
     "output_type": "display_data"
    }
   ],
   "source": [
    "\"\"\"\n",
    "Values looks okay. Considering forth feature fully engineered.\n",
    "Next = Forsinkelse_Per_Prosent_Full\n",
    "\"\"\"\n",
    "\n",
    "# The two values we are using are already clean so skipping the cleaning part\n",
    "# However, to avoid zerodivision, we remove where percentage full is zero\n",
    "\n",
    "df = df[df.Prosent_Full != 0]\n",
    "\n",
    "df['Forsinkelse_Per_Prosent_Full'] = df['Faktisk_Forsinkelse_Sekunder'] / df['Prosent_Full']\n",
    "\n",
    "df['Forsinkelse_Per_Prosent_Full'].plot.box()"
   ]
  },
  {
   "cell_type": "code",
   "execution_count": 19,
   "id": "86a9e03e",
   "metadata": {},
   "outputs": [
    {
     "data": {
      "text/html": [
       "<div>\n",
       "<style scoped>\n",
       "    .dataframe tbody tr th:only-of-type {\n",
       "        vertical-align: middle;\n",
       "    }\n",
       "\n",
       "    .dataframe tbody tr th {\n",
       "        vertical-align: top;\n",
       "    }\n",
       "\n",
       "    .dataframe thead th {\n",
       "        text-align: right;\n",
       "    }\n",
       "</style>\n",
       "<table border=\"1\" class=\"dataframe\">\n",
       "  <thead>\n",
       "    <tr style=\"text-align: right;\">\n",
       "      <th></th>\n",
       "      <th>TurId</th>\n",
       "      <th>Dato</th>\n",
       "      <th>Fylke</th>\n",
       "      <th>Område</th>\n",
       "      <th>Kommune</th>\n",
       "      <th>Holdeplass_Fra</th>\n",
       "      <th>Holdeplass_Til</th>\n",
       "      <th>Linjetype</th>\n",
       "      <th>Linjefylke</th>\n",
       "      <th>Linjenavn</th>\n",
       "      <th>...</th>\n",
       "      <th>Tidspunkt_Faktisk_Avgang_Holdeplass_Fra</th>\n",
       "      <th>Tidspunkt_Planlagt_Ankomst_Holdeplass_Fra</th>\n",
       "      <th>Tidspunkt_Planlagt_Avgang_Holdeplass_Fra</th>\n",
       "      <th>Kjøretøy_Kapasitet</th>\n",
       "      <th>Passasjerer_Ombord</th>\n",
       "      <th>Faktisk_Ventetid_Sekunder</th>\n",
       "      <th>Faktisk_Forsinkelse_Sekunder</th>\n",
       "      <th>Ledige_Plasser</th>\n",
       "      <th>Prosent_Full</th>\n",
       "      <th>Forsinkelse_Per_Prosent_Full</th>\n",
       "    </tr>\n",
       "  </thead>\n",
       "  <tbody>\n",
       "    <tr>\n",
       "      <th>0</th>\n",
       "      <td>15006-2020-08-10T10:24:00+02:00</td>\n",
       "      <td>10/08/2020</td>\n",
       "      <td>Viken</td>\n",
       "      <td>Vest</td>\n",
       "      <td>Bærum</td>\n",
       "      <td>Nordliveien</td>\n",
       "      <td>Tjernsmyr</td>\n",
       "      <td>Lokal</td>\n",
       "      <td>Viken</td>\n",
       "      <td>150</td>\n",
       "      <td>...</td>\n",
       "      <td>10:53:59</td>\n",
       "      <td>10:53:00</td>\n",
       "      <td>10:53:00</td>\n",
       "      <td>112</td>\n",
       "      <td>5</td>\n",
       "      <td>6.0</td>\n",
       "      <td>53.0</td>\n",
       "      <td>107</td>\n",
       "      <td>4.464286</td>\n",
       "      <td>11.872000</td>\n",
       "    </tr>\n",
       "    <tr>\n",
       "      <th>1</th>\n",
       "      <td>15002-2020-08-15T12:54:00+02:00</td>\n",
       "      <td>15/08/2020</td>\n",
       "      <td>Viken</td>\n",
       "      <td>Vest</td>\n",
       "      <td>Bærum</td>\n",
       "      <td>Nadderud stadion</td>\n",
       "      <td>Bekkestua bussterminal (Plattform C)</td>\n",
       "      <td>Lokal</td>\n",
       "      <td>Viken</td>\n",
       "      <td>150</td>\n",
       "      <td>...</td>\n",
       "      <td>13:12:26</td>\n",
       "      <td>13:12:00</td>\n",
       "      <td>13:12:00</td>\n",
       "      <td>112</td>\n",
       "      <td>5</td>\n",
       "      <td>6.0</td>\n",
       "      <td>20.0</td>\n",
       "      <td>107</td>\n",
       "      <td>4.464286</td>\n",
       "      <td>4.480000</td>\n",
       "    </tr>\n",
       "    <tr>\n",
       "      <th>2</th>\n",
       "      <td>15004-2020-08-03T09:54:00+02:00</td>\n",
       "      <td>03/08/2020</td>\n",
       "      <td>Viken</td>\n",
       "      <td>Vest</td>\n",
       "      <td>Bærum</td>\n",
       "      <td>Ringstabekkveien</td>\n",
       "      <td>Skallum</td>\n",
       "      <td>Lokal</td>\n",
       "      <td>Viken</td>\n",
       "      <td>150</td>\n",
       "      <td>...</td>\n",
       "      <td>10:19:21</td>\n",
       "      <td>10:19:00</td>\n",
       "      <td>10:19:00</td>\n",
       "      <td>112</td>\n",
       "      <td>6</td>\n",
       "      <td>25.0</td>\n",
       "      <td>-4.0</td>\n",
       "      <td>106</td>\n",
       "      <td>5.357143</td>\n",
       "      <td>-0.746667</td>\n",
       "    </tr>\n",
       "    <tr>\n",
       "      <th>3</th>\n",
       "      <td>15003-2020-07-27T13:00:00+02:00</td>\n",
       "      <td>27/07/2020</td>\n",
       "      <td>Viken</td>\n",
       "      <td>Vest</td>\n",
       "      <td>Bærum</td>\n",
       "      <td>Gruvemyra</td>\n",
       "      <td>Gullhaug</td>\n",
       "      <td>Lokal</td>\n",
       "      <td>Viken</td>\n",
       "      <td>150</td>\n",
       "      <td>...</td>\n",
       "      <td>13:52:26</td>\n",
       "      <td>13:51:00</td>\n",
       "      <td>13:51:00</td>\n",
       "      <td>112</td>\n",
       "      <td>10</td>\n",
       "      <td>22.0</td>\n",
       "      <td>64.0</td>\n",
       "      <td>102</td>\n",
       "      <td>8.928571</td>\n",
       "      <td>7.168000</td>\n",
       "    </tr>\n",
       "    <tr>\n",
       "      <th>4</th>\n",
       "      <td>15002-2020-08-27T07:15:00+02:00</td>\n",
       "      <td>27/08/2020</td>\n",
       "      <td>Viken</td>\n",
       "      <td>Vest</td>\n",
       "      <td>Bærum</td>\n",
       "      <td>Lysaker stasjon (Plattform A)</td>\n",
       "      <td>Tjernsmyr</td>\n",
       "      <td>Lokal</td>\n",
       "      <td>Viken</td>\n",
       "      <td>150</td>\n",
       "      <td>...</td>\n",
       "      <td>07:34:53</td>\n",
       "      <td>07:33:00</td>\n",
       "      <td>07:33:00</td>\n",
       "      <td>112</td>\n",
       "      <td>10</td>\n",
       "      <td>40.0</td>\n",
       "      <td>73.0</td>\n",
       "      <td>102</td>\n",
       "      <td>8.928571</td>\n",
       "      <td>8.176000</td>\n",
       "    </tr>\n",
       "  </tbody>\n",
       "</table>\n",
       "<p>5 rows × 22 columns</p>\n",
       "</div>"
      ],
      "text/plain": [
       "                             TurId        Dato  Fylke Område Kommune  \\\n",
       "0  15006-2020-08-10T10:24:00+02:00  10/08/2020  Viken   Vest   Bærum   \n",
       "1  15002-2020-08-15T12:54:00+02:00  15/08/2020  Viken   Vest   Bærum   \n",
       "2  15004-2020-08-03T09:54:00+02:00  03/08/2020  Viken   Vest   Bærum   \n",
       "3  15003-2020-07-27T13:00:00+02:00  27/07/2020  Viken   Vest   Bærum   \n",
       "4  15002-2020-08-27T07:15:00+02:00  27/08/2020  Viken   Vest   Bærum   \n",
       "\n",
       "                  Holdeplass_Fra                        Holdeplass_Til  \\\n",
       "0                    Nordliveien                             Tjernsmyr   \n",
       "1               Nadderud stadion  Bekkestua bussterminal (Plattform C)   \n",
       "2               Ringstabekkveien                               Skallum   \n",
       "3                      Gruvemyra                              Gullhaug   \n",
       "4  Lysaker stasjon (Plattform A)                             Tjernsmyr   \n",
       "\n",
       "  Linjetype Linjefylke Linjenavn  ...  \\\n",
       "0     Lokal      Viken       150  ...   \n",
       "1     Lokal      Viken       150  ...   \n",
       "2     Lokal      Viken       150  ...   \n",
       "3     Lokal      Viken       150  ...   \n",
       "4     Lokal      Viken       150  ...   \n",
       "\n",
       "   Tidspunkt_Faktisk_Avgang_Holdeplass_Fra  \\\n",
       "0                                 10:53:59   \n",
       "1                                 13:12:26   \n",
       "2                                 10:19:21   \n",
       "3                                 13:52:26   \n",
       "4                                 07:34:53   \n",
       "\n",
       "  Tidspunkt_Planlagt_Ankomst_Holdeplass_Fra  \\\n",
       "0                                  10:53:00   \n",
       "1                                  13:12:00   \n",
       "2                                  10:19:00   \n",
       "3                                  13:51:00   \n",
       "4                                  07:33:00   \n",
       "\n",
       "  Tidspunkt_Planlagt_Avgang_Holdeplass_Fra Kjøretøy_Kapasitet  \\\n",
       "0                                 10:53:00                112   \n",
       "1                                 13:12:00                112   \n",
       "2                                 10:19:00                112   \n",
       "3                                 13:51:00                112   \n",
       "4                                 07:33:00                112   \n",
       "\n",
       "  Passasjerer_Ombord  Faktisk_Ventetid_Sekunder  Faktisk_Forsinkelse_Sekunder  \\\n",
       "0                  5                        6.0                          53.0   \n",
       "1                  5                        6.0                          20.0   \n",
       "2                  6                       25.0                          -4.0   \n",
       "3                 10                       22.0                          64.0   \n",
       "4                 10                       40.0                          73.0   \n",
       "\n",
       "   Ledige_Plasser  Prosent_Full  Forsinkelse_Per_Prosent_Full  \n",
       "0             107      4.464286                     11.872000  \n",
       "1             107      4.464286                      4.480000  \n",
       "2             106      5.357143                     -0.746667  \n",
       "3             102      8.928571                      7.168000  \n",
       "4             102      8.928571                      8.176000  \n",
       "\n",
       "[5 rows x 22 columns]"
      ]
     },
     "execution_count": 19,
     "metadata": {},
     "output_type": "execute_result"
    }
   ],
   "source": [
    "\"\"\"\n",
    "TODO - Write like a real human\n",
    "Fifth also looks good, moving on to the funky plots\n",
    "\"\"\"\n",
    "\n",
    "df.head()"
   ]
  },
  {
   "cell_type": "code",
   "execution_count": 20,
   "id": "57222327",
   "metadata": {},
   "outputs": [],
   "source": [
    "\"\"\"\n",
    "TASK 1.3 - Visualize each feature in the form of a graph using python libraries.\n",
    "The graph should consist of 2 axis (x and y). Use the features (identified above) \n",
    "on one axis and use any other column/feature on the other axis.\n",
    "\n",
    "TODO:\n",
    "- Use seaborn to make 2D plots of our super good feature engineering whoop\n",
    "\"\"\"\n",
    "\n",
    "import seaborn as sns"
   ]
  },
  {
   "cell_type": "code",
   "execution_count": 21,
   "id": "6dca0055",
   "metadata": {},
   "outputs": [
    {
     "name": "stdout",
     "output_type": "stream",
     "text": [
      "113.05952380952381\n"
     ]
    }
   ],
   "source": [
    "# Trash this as well\n",
    "\n",
    "mean150 = df[df.Linjenavn == \"150\"]\n",
    "mean150 = mean150['Faktisk_Forsinkelse_Sekunder'].mean()\n",
    "\n",
    "print(mean150)"
   ]
  },
  {
   "cell_type": "code",
   "execution_count": 22,
   "id": "02282c86",
   "metadata": {},
   "outputs": [
    {
     "data": {
      "text/plain": [
       "<seaborn.axisgrid.FacetGrid at 0x7f810497d940>"
      ]
     },
     "execution_count": 22,
     "metadata": {},
     "output_type": "execute_result"
    },
    {
     "data": {
      "image/png": "[encoded data removed]",
      "text/plain": [
       "<Figure size 360x360 with 1 Axes>"
      ]
     },
     "metadata": {
      "needs_background": "light"
     },
     "output_type": "display_data"
    }
   ],
   "source": [
    "# PLOT 1\n",
    "# Plotting delays on ammount of passengers to try and see if there is any relation\n",
    "# Seems like there isn't much hahah\n",
    "\n",
    "sns.relplot(y='Passasjerer_Ombord', x='Faktisk_Forsinkelse_Sekunder', data=df)"
   ]
  },
  {
   "cell_type": "code",
   "execution_count": 23,
   "id": "8363a0e2",
   "metadata": {},
   "outputs": [
    {
     "data": {
      "text/plain": [
       "<seaborn.axisgrid.FacetGrid at 0x7f81049060d0>"
      ]
     },
     "execution_count": 23,
     "metadata": {},
     "output_type": "execute_result"
    },
    {
     "data": {
      "image/png": "[encoded data removed]",
      "text/plain": [
       "<Figure size 360x360 with 1 Axes>"
      ]
     },
     "metadata": {
      "needs_background": "light"
     },
     "output_type": "display_data"
    }
   ],
   "source": [
    "#PLOT 2\n",
    "#Plotting mean delay in seconds per line, to see if some lines are more delayed than others\n",
    "\n",
    "dfLines = df.groupby(\"Linjenavn\")\n",
    "meanLines = dfLines[\"Faktisk_Ventetid_Sekunder\"].mean()\n",
    "\n",
    "sns.relplot(data = meanLines)"
   ]
  },
  {
   "cell_type": "code",
   "execution_count": 24,
   "id": "35fc8517",
   "metadata": {},
   "outputs": [
    {
     "data": {
      "text/plain": [
       "<seaborn.axisgrid.FacetGrid at 0x7f81048eeac0>"
      ]
     },
     "execution_count": 24,
     "metadata": {},
     "output_type": "execute_result"
    },
    {
     "data": {
      "image/png": "[encoded data removed]",
      "text/plain": [
       "<Figure size 360x360 with 1 Axes>"
      ]
     },
     "metadata": {
      "needs_background": "light"
     },
     "output_type": "display_data"
    }
   ],
   "source": [
    "#PLOT 3\n",
    "#Recycling technique from plot 2, to see if any lines wait much longer than any others\n",
    "\n",
    "#dfLines = df.groupby(\"Linjenavn\")\n",
    "dfLines = df.groupby(\"Linjenavn\")\n",
    "meanDelay = dfLines[\"Faktisk_Forsinkelse_Sekunder\"].mean()\n",
    "\n",
    "sns.relplot(data = meanDelay)"
   ]
  },
  {
   "cell_type": "code",
   "execution_count": 25,
   "id": "62c134ca",
   "metadata": {},
   "outputs": [
    {
     "data": {
      "text/plain": [
       "<seaborn.axisgrid.FacetGrid at 0x7f81046cc340>"
      ]
     },
     "execution_count": 25,
     "metadata": {},
     "output_type": "execute_result"
    },
    {
     "data": {
      "image/png": "[encoded data removed]",
      "text/plain": [
       "<Figure size 360x360 with 1 Axes>"
      ]
     },
     "metadata": {
      "needs_background": "light"
     },
     "output_type": "display_data"
    }
   ],
   "source": [
    "#PLOT 4\n",
    "# Seeing if there is relation between capacity and delay\n",
    "# Seems to be slight corelation\n",
    "\n",
    "dfCapacity = df.groupby(\"Kjøretøy_Kapasitet\")\n",
    "meanCapDel = dfCapacity[\"Faktisk_Forsinkelse_Sekunder\"].mean()\n",
    "\n",
    "sns.relplot(data = meanCapDel)"
   ]
  },
  {
   "cell_type": "code",
   "execution_count": 30,
   "id": "be642e89",
   "metadata": {},
   "outputs": [
    {
     "data": {
      "text/plain": [
       "<seaborn.axisgrid.FacetGrid at 0x7f8104a6b3d0>"
      ]
     },
     "execution_count": 30,
     "metadata": {},
     "output_type": "execute_result"
    },
    {
     "data": {
      "image/png": "[encoded data removed]",
      "text/plain": [
       "<Figure size 360x360 with 1 Axes>"
      ]
     },
     "metadata": {
      "needs_background": "light"
     },
     "output_type": "display_data"
    }
   ],
   "source": [
    "# PLOT 5\n",
    "# Plotting mean percentage full per Kommune, to see where they\n",
    "\n",
    "dfFylke = df.groupby(\"Kommune\")\n",
    "meanPerFyl = dfFylke[\"Prosent_Full\"].mean()\n",
    "\n",
    "sns.relplot(data = meanPerFyl)"
   ]
  },
  {
   "cell_type": "code",
   "execution_count": 26,
   "id": "5d420e68",
   "metadata": {},
   "outputs": [
    {
     "name": "stdout",
     "output_type": "stream",
     "text": [
      "\n"
     ]
    }
   ],
   "source": [
    "\"\"\"\n",
    "TODO\n",
    "\n",
    "BONUS - 3D plots\n",
    "\n",
    "- Seaborn 3D plot???\n",
    "\n",
    "- Output a engineered .csv for mad flex\n",
    "\"\"\"\n",
    "print()"
   ]
  }
 ],
 "metadata": {
  "kernelspec": {
   "display_name": "Python 3 (ipykernel)",
   "language": "python",
   "name": "python3"
  },
  "language_info": {
   "codemirror_mode": {
    "name": "ipython",
    "version": 3
   },
   "file_extension": ".py",
   "mimetype": "text/x-python",
   "name": "python",
   "nbconvert_exporter": "python",
   "pygments_lexer": "ipython3",
   "version": "3.9.7"
  }
 },
 "nbformat": 4,
 "nbformat_minor": 5
}
